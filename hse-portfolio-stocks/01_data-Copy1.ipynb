{
 "cells": [
  {
   "cell_type": "code",
   "execution_count": 1,
   "id": "6c2a4589-6c45-40bf-8f70-cfdb0620d328",
   "metadata": {},
   "outputs": [
    {
     "name": "stdout",
     "output_type": "stream",
     "text": [
      "Импорты прошли! Работаю из /opt/anaconda3/envs/stocks/bin/python\n"
     ]
    }
   ],
   "source": [
    "import sys, yfinance, yaml, pandas, pyarrow\n",
    "print(\"Импорты прошли! Работаю из\", sys.executable)\n",
    "\n"
   ]
  },
  {
   "cell_type": "code",
   "execution_count": 3,
   "id": "90683e24-0299-45db-a14c-0332c36955f5",
   "metadata": {},
   "outputs": [
    {
     "name": "stdout",
     "output_type": "stream",
     "text": [
      "Папка data/raw готова!\n"
     ]
    }
   ],
   "source": [
    "import pathlib\n",
    "pathlib.Path(\"data/raw\").mkdir(parents=True, exist_ok=True)\n",
    "print(\"Папка data/raw готова!\")\n"
   ]
  },
  {
   "cell_type": "code",
   "execution_count": 5,
   "id": "02933734-af5e-4a34-842e-6b59698fa2c2",
   "metadata": {},
   "outputs": [
    {
     "name": "stdout",
     "output_type": "stream",
     "text": [
      "505 tickers saved to universe.yaml\n"
     ]
    }
   ],
   "source": [
    "import pandas as pd, yaml, requests\n",
    "\n",
    "url = \"https://gist.githubusercontent.com/ZeccaLehn/f6a2613b24c393821f81c0c1d23d4192/raw/SP500.csv\"\n",
    "sp500 = pd.read_csv(url)\n",
    "tickers = sorted(sp500[\"Symbol\"].unique())\n",
    "\n",
    "with open(\"universe.yaml\", \"w\") as f:\n",
    "    yaml.safe_dump({\"tickers\": tickers}, f)\n",
    "\n",
    "print(f\"{len(tickers)} tickers saved to universe.yaml\")\n"
   ]
  },
  {
   "cell_type": "code",
   "execution_count": 7,
   "id": "922a2a10-71a1-4ec2-9d9d-4c27002d5e2c",
   "metadata": {},
   "outputs": [
    {
     "name": "stderr",
     "output_type": "stream",
     "text": [
      "\n",
      "75 Failed downloads:\n",
      "['TMK', 'CTXS', 'HRS', 'CERN', 'ATVI', 'MRO', 'CTL', 'RE', 'MON', 'CXO', 'CHK', 'ADS', 'ABC', 'DRE', 'FISV', 'PXD', 'BRK.B', 'RHT', 'KSU', 'NBL', 'PKI', 'MYL', 'DWDP', 'JEC', 'TIF', 'WRK', 'XEC', 'FB', 'DISCA', 'VIAB', 'PBCT', 'XL', 'BHGE', 'ALXN', 'ARNC', 'TSS', 'DISH', 'RTN', 'FBHS', 'BBT', 'DISCK', 'COG', 'BLL', 'SYMC', 'WLTW', 'NLSN', 'ANTM', 'HCP', 'XLNX', 'AGN', 'VAR', 'ETFC', 'CBS', 'UTX', 'LLL', 'CELG', 'GPS', 'FLIR', 'APC']: YFTzMissingError('possibly delisted; no timezone found')\n",
      "['HCN', 'BF.B', 'DPS', 'WYN', 'PCLN', 'CBG', 'LUK', 'GGP', 'SNI', 'KORS']: YFPricesMissingError('possibly delisted; no price data found  (1d 2015-01-01 -> 2025-05-21)')\n",
      "['TWX', 'CSRA', 'ANDV', 'AET', 'SCG']: ValueError('Length mismatch: Expected axis has 2 elements, new values have 1 elements')\n",
      "['CRM']: Timeout('Failed to perform, curl: (28) Operation timed out after 10002 milliseconds with 65026 bytes received. See https://curl.se/libcurl/c/libcurl-errors.html first for more details.')\n"
     ]
    },
    {
     "name": "stdout",
     "output_type": "stream",
     "text": [
      "Saved (2612, 505) to data/raw/prices.parquet\n"
     ]
    }
   ],
   "source": [
    "import yfinance as yf, yaml, pandas as pd, pathlib\n",
    "\n",
    "pathlib.Path(\"data/raw\").mkdir(parents=True, exist_ok=True)\n",
    "\n",
    "tickers = yaml.safe_load(open(\"universe.yaml\"))[\"tickers\"]\n",
    "prices = yf.download(tickers,\n",
    "                     start=\"2015-01-01\",\n",
    "                     auto_adjust=True,\n",
    "                     progress=False)[\"Close\"]\n",
    "\n",
    "prices.to_parquet(\"data/raw/prices.parquet\")\n",
    "print(\"Saved\", prices.shape, \"to data/raw/prices.parquet\")\n"
   ]
  },
  {
   "cell_type": "code",
   "execution_count": 14,
   "id": "0e444488-1949-457a-a68b-c1b92b8dbeb9",
   "metadata": {},
   "outputs": [
    {
     "name": "stdout",
     "output_type": "stream",
     "text": [
      "Before drop: (2612, 505)\n",
      "After drop : (2612, 430)\n",
      "Файл сохранён!\n"
     ]
    }
   ],
   "source": [
    "import pathlib, pandas as pd\n",
    "\n",
    "prices = pd.read_parquet(\"data/raw/prices.parquet\")\n",
    "print(\"Before drop:\", prices.shape)\n",
    "\n",
    "all_nan = prices.isna().all()\n",
    "prices = prices.loc[:, ~all_nan]\n",
    "\n",
    "print(\"After drop :\", prices.shape)\n",
    "\n",
    "# ---- вот эта строка создаст папку, если её нет ----\n",
    "pathlib.Path(\"data/processed\").mkdir(parents=True, exist_ok=True)\n",
    "\n",
    "prices.to_parquet(\"data/processed/prices_raw_clean.parquet\")\n",
    "print(\"Файл сохранён!\")\n"
   ]
  },
  {
   "cell_type": "code",
   "execution_count": 16,
   "id": "2bf76979-da9d-41c2-894f-3bb9aeb04aa3",
   "metadata": {
    "scrolled": true
   },
   "outputs": [
    {
     "name": "stdout",
     "output_type": "stream",
     "text": [
      "Before drop: (2612, 505)\n",
      "After drop : (2612, 430)\n"
     ]
    }
   ],
   "source": [
    "prices = pd.read_parquet(\"data/raw/prices.parquet\")\n",
    "print(\"Before drop:\", prices.shape)\n",
    "\n",
    "all_nan = prices.isna().all()\n",
    "prices = prices.loc[:, ~all_nan]\n",
    "\n",
    "print(\"After drop :\", prices.shape)\n",
    "prices.to_parquet(\"data/processed/prices_raw_clean.parquet\")\n"
   ]
  },
  {
   "cell_type": "code",
   "execution_count": 19,
   "id": "3f21a51f-76cc-4dde-9e82-2a93b9e78c0e",
   "metadata": {},
   "outputs": [],
   "source": [
    "prices = prices.sort_index()          # вдруг даты перемешались\n",
    "prices = prices.ffill().bfill()       # вперёд/назад заполнение\n",
    "\n",
    "# sanity-check\n",
    "assert prices.isna().sum().sum() == 0, \"Остались пропуски!\"\n",
    "\n",
    "prices.to_parquet(\"data/processed/prices_filled.parquet\")\n"
   ]
  },
  {
   "cell_type": "code",
   "execution_count": 21,
   "id": "c4e5fa4d-fe01-41d8-ba74-669a46338955",
   "metadata": {},
   "outputs": [
    {
     "name": "stdout",
     "output_type": "stream",
     "text": [
      "Returns shape: (2611, 430)\n"
     ]
    }
   ],
   "source": [
    "returns = prices.pct_change().dropna(how=\"all\")\n",
    "returns.to_parquet(\"data/processed/returns.parquet\")\n",
    "print(\"Returns shape:\", returns.shape)\n"
   ]
  },
  {
   "cell_type": "code",
   "execution_count": 23,
   "id": "b3012a98-f1bf-4bc1-b02e-a4b13470f268",
   "metadata": {},
   "outputs": [
    {
     "name": "stdout",
     "output_type": "stream",
     "text": [
      "Mean daily return: 0.0005\n",
      "Mean daily volatility: 0.0201\n"
     ]
    }
   ],
   "source": [
    "print(\"Mean daily return:\", returns.mean().mean().round(4))\n",
    "print(\"Mean daily volatility:\", returns.std().mean().round(4))\n"
   ]
  },
  {
   "cell_type": "code",
   "execution_count": 6,
   "id": "2e8dc057-09ac-416c-9b84-b04c569e9473",
   "metadata": {},
   "outputs": [
    {
     "ename": "AttributeError",
     "evalue": "module 'openbb' has no attribute '__version__'",
     "output_type": "error",
     "traceback": [
      "\u001b[31m---------------------------------------------------------------------------\u001b[39m",
      "\u001b[31mAttributeError\u001b[39m                            Traceback (most recent call last)",
      "\u001b[36mCell\u001b[39m\u001b[36m \u001b[39m\u001b[32mIn[6]\u001b[39m\u001b[32m, line 4\u001b[39m\n\u001b[32m      1\u001b[39m \u001b[38;5;28;01mimport\u001b[39;00m\u001b[38;5;250m \u001b[39m\u001b[34;01mopenbb\u001b[39;00m                \u001b[38;5;66;03m# ← корневой пакет\u001b[39;00m\n\u001b[32m      2\u001b[39m \u001b[38;5;28;01mfrom\u001b[39;00m\u001b[38;5;250m \u001b[39m\u001b[34;01mopenbb\u001b[39;00m\u001b[38;5;250m \u001b[39m\u001b[38;5;28;01mimport\u001b[39;00m obb       \u001b[38;5;66;03m# ← объект-“приложение”\u001b[39;00m\n\u001b[32m----> \u001b[39m\u001b[32m4\u001b[39m \u001b[38;5;28mprint\u001b[39m(\u001b[33m\"\u001b[39m\u001b[33mOpenBB version:\u001b[39m\u001b[33m\"\u001b[39m, openbb.__version__)   \u001b[38;5;66;03m# ✓ так работает\u001b[39;00m\n\u001b[32m      5\u001b[39m \u001b[38;5;66;03m# или просто пропустите проверку версии\u001b[39;00m\n\u001b[32m      6\u001b[39m \n\u001b[32m      7\u001b[39m \u001b[38;5;66;03m# запишем ключ FMP\u001b[39;00m\n\u001b[32m      8\u001b[39m obb.user.set_apikey(\u001b[33m\"\u001b[39m\u001b[33mfmp\u001b[39m\u001b[33m\"\u001b[39m, \u001b[33m\"\u001b[39m\u001b[33mzqeoRJ2nkCUIYhe6q6tRLSTzePdObTuC\u001b[39m\u001b[33m\"\u001b[39m)   \u001b[38;5;66;03m# токен лучше сразу сменить\u001b[39;00m\n",
      "\u001b[31mAttributeError\u001b[39m: module 'openbb' has no attribute '__version__'"
     ]
    }
   ],
   "source": [
    "import openbb                # ← корневой пакет\n",
    "from openbb import obb       # ← объект-“приложение”\n",
    "\n",
    "print(\"OpenBB version:\", openbb.__version__)   # ✓ так работает\n",
    "# или просто пропустите проверку версии\n",
    "\n",
    "# запишем ключ FMP\n",
    "obb.user.set_apikey(\"fmp\", \"zqeoRJ2nkCUIYhe6q6tRLSTzePdObTuC\")   # токен лучше сразу сменить\n",
    "obb.user.save_settings()                       # сохранит в ~/.openbb\n",
    "\n",
    "print(\"Ключ сохранён:\", obb.user.get_apikey(\"fmp\")[:4]+\"…\")\n"
   ]
  },
  {
   "cell_type": "code",
   "execution_count": 8,
   "id": "859cdafc-4963-4a6a-98c5-a34dbbb38c1f",
   "metadata": {},
   "outputs": [
    {
     "name": "stdout",
     "output_type": "stream",
     "text": [
      "OpenBB version: 4.4.4\n"
     ]
    },
    {
     "ename": "AttributeError",
     "evalue": "'UserSettings' object has no attribute 'set_apikey'",
     "output_type": "error",
     "traceback": [
      "\u001b[31m---------------------------------------------------------------------------\u001b[39m",
      "\u001b[31mAttributeError\u001b[39m                            Traceback (most recent call last)",
      "\u001b[36mCell\u001b[39m\u001b[36m \u001b[39m\u001b[32mIn[8]\u001b[39m\u001b[32m, line 13\u001b[39m\n\u001b[32m     10\u001b[39m     \u001b[38;5;28mprint\u001b[39m(\u001b[33m\"\u001b[39m\u001b[33mOpenBB: версия не объявлена, но пакет загружен\u001b[39m\u001b[33m\"\u001b[39m)\n\u001b[32m     12\u001b[39m \u001b[38;5;66;03m# --- прописываем FMP-ключ ---\u001b[39;00m\n\u001b[32m---> \u001b[39m\u001b[32m13\u001b[39m obb.user.set_apikey(\u001b[33m\"\u001b[39m\u001b[33mfmp\u001b[39m\u001b[33m\"\u001b[39m, \u001b[33m\"\u001b[39m\u001b[33mzqeoRJ2nkCUIYhe6q6tRLSTzePdObTuC\u001b[39m\u001b[33m\"\u001b[39m)   \u001b[38;5;66;03m# лучше сразу регенерировать\u001b[39;00m\n\u001b[32m     14\u001b[39m obb.user.save_settings()\n\u001b[32m     15\u001b[39m \u001b[38;5;28mprint\u001b[39m(\u001b[33m\"\u001b[39m\u001b[33mКлюч сохранён локально!\u001b[39m\u001b[33m\"\u001b[39m)\n",
      "\u001b[36mFile \u001b[39m\u001b[32m/opt/anaconda3/envs/stocks/lib/python3.11/site-packages/pydantic/main.py:989\u001b[39m, in \u001b[36mBaseModel.__getattr__\u001b[39m\u001b[34m(self, item)\u001b[39m\n\u001b[32m    986\u001b[39m     \u001b[38;5;28;01mreturn\u001b[39;00m \u001b[38;5;28msuper\u001b[39m().\u001b[34m__getattribute__\u001b[39m(item)  \u001b[38;5;66;03m# Raises AttributeError if appropriate\u001b[39;00m\n\u001b[32m    987\u001b[39m \u001b[38;5;28;01melse\u001b[39;00m:\n\u001b[32m    988\u001b[39m     \u001b[38;5;66;03m# this is the current error\u001b[39;00m\n\u001b[32m--> \u001b[39m\u001b[32m989\u001b[39m     \u001b[38;5;28;01mraise\u001b[39;00m \u001b[38;5;167;01mAttributeError\u001b[39;00m(\u001b[33mf\u001b[39m\u001b[33m'\u001b[39m\u001b[38;5;132;01m{\u001b[39;00m\u001b[38;5;28mtype\u001b[39m(\u001b[38;5;28mself\u001b[39m).\u001b[34m__name__\u001b[39m\u001b[38;5;132;01m!r}\u001b[39;00m\u001b[33m object has no attribute \u001b[39m\u001b[38;5;132;01m{\u001b[39;00mitem\u001b[38;5;132;01m!r}\u001b[39;00m\u001b[33m'\u001b[39m)\n",
      "\u001b[31mAttributeError\u001b[39m: 'UserSettings' object has no attribute 'set_apikey'"
     ]
    }
   ],
   "source": [
    "# --- импортируем ---\n",
    "from openbb import obb                    # главный объект-«приложение»\n",
    "import importlib.metadata as md           # стандартный модуль Python ≥3.8\n",
    "\n",
    "# безопасно узнаём версию пакета (если очень хочется)\n",
    "try:\n",
    "    ver = md.version(\"openbb\")\n",
    "    print(\"OpenBB version:\", ver)\n",
    "except md.PackageNotFoundError:\n",
    "    print(\"OpenBB: версия не объявлена, но пакет загружен\")\n",
    "\n",
    "# --- прописываем FMP-ключ ---\n",
    "obb.user.set_apikey(\"fmp\", \"zqeoRJ2nkCUIYhe6q6tRLSTzePdObTuC\")   # лучше сразу регенерировать\n",
    "obb.user.save_settings()\n",
    "print(\"Ключ сохранён локально!\")\n",
    "\n",
    "# --- быстрая проверка: профиль Apple ---\n",
    "df = obb.equity.profile(\"AAPL\", provider=\"fmp\")\n",
    "display(df.head())\n"
   ]
  },
  {
   "cell_type": "code",
   "execution_count": 10,
   "id": "03af3189-084f-4496-b147-c261261bd106",
   "metadata": {},
   "outputs": [],
   "source": [
    "import os\n",
    "# ❗️ вставьте НОВЫЙ сгенерированный токен – тот, что был на скрине, лучше уже заменить\n",
    "os.environ[\"FMP_API_KEY\"] = \"zqeoRJ2nkCUIYhe6q6tRLSTzePdObTuC\"\n"
   ]
  },
  {
   "cell_type": "code",
   "execution_count": 4,
   "id": "d987beaf-5762-4a5f-9d64-d40f6e08cdc7",
   "metadata": {},
   "outputs": [
    {
     "name": "stdout",
     "output_type": "stream",
     "text": [
      "Ожидаемый путь: /Users/malekamerzhoeva/.openbb/credentials.toml\n",
      "Файл существует? ➜ True\n",
      "\n",
      "Содержимое файла:\n",
      "    fmp_api_key = \"zqeoRJ2nkCUIYhe6q6tRLSTzePdObTuC\"\n",
      "\n",
      "    A\n",
      "\n"
     ]
    }
   ],
   "source": [
    "import pathlib, os, textwrap, sys\n",
    "\n",
    "cred_path = pathlib.Path.home() / \".openbb\" / \"credentials.toml\"\n",
    "print(\"Ожидаемый путь:\", cred_path)\n",
    "print(\"Файл существует? ➜\", cred_path.exists())\n",
    "\n",
    "if cred_path.exists():\n",
    "    print(\"\\nСодержимое файла:\")\n",
    "    print(textwrap.indent(cred_path.read_text(), \"    \"))\n"
   ]
  },
  {
   "cell_type": "code",
   "execution_count": 6,
   "id": "f990bd57-9944-4dcd-b541-7bbbeee7fcac",
   "metadata": {},
   "outputs": [],
   "source": [
    "fmp_api_key = \"zqeoRJ2nkCUIYhe6q6tRLSTzePdObTuC\"\n"
   ]
  },
  {
   "cell_type": "code",
   "execution_count": 2,
   "id": "afb2cda3-6d34-422e-830a-522b56d73dad",
   "metadata": {},
   "outputs": [
    {
     "ename": "OpenBBError",
     "evalue": "\n[Error] -> Missing credential 'fmp_api_key'. Check https://financialmodelingprep.com to get it. Known more about how to set provider credentials at https://docs.openbb.co/platform/getting_started/api_keys.",
     "output_type": "error",
     "traceback": [
      "\u001b[31m---------------------------------------------------------------------------\u001b[39m",
      "\u001b[31mOpenBBError\u001b[39m                               Traceback (most recent call last)",
      "\u001b[36mCell\u001b[39m\u001b[36m \u001b[39m\u001b[32mIn[2]\u001b[39m\u001b[32m, line 2\u001b[39m\n\u001b[32m      1\u001b[39m \u001b[38;5;28;01mfrom\u001b[39;00m\u001b[38;5;250m \u001b[39m\u001b[34;01mopenbb\u001b[39;00m\u001b[38;5;250m \u001b[39m\u001b[38;5;28;01mimport\u001b[39;00m obb\n\u001b[32m----> \u001b[39m\u001b[32m2\u001b[39m obb.equity.profile(\u001b[33m\"\u001b[39m\u001b[33mAAPL\u001b[39m\u001b[33m\"\u001b[39m, provider=\u001b[33m\"\u001b[39m\u001b[33mfmp\u001b[39m\u001b[33m\"\u001b[39m).head()\n",
      "\u001b[36mFile \u001b[39m\u001b[32m/opt/anaconda3/envs/stocks/lib/python3.11/site-packages/openbb_core/app/static/utils/decorators.py:99\u001b[39m, in \u001b[36mexception_handler.<locals>.wrapper\u001b[39m\u001b[34m(*f_args, **f_kwargs)\u001b[39m\n\u001b[32m     97\u001b[39m     \u001b[38;5;28;01mraise\u001b[39;00m EmptyDataError(\u001b[33mf\u001b[39m\u001b[33m\"\u001b[39m\u001b[38;5;130;01m\\n\u001b[39;00m\u001b[33m[Empty] -> \u001b[39m\u001b[38;5;132;01m{\u001b[39;00me\u001b[38;5;132;01m}\u001b[39;00m\u001b[33m\"\u001b[39m).with_traceback(tb) \u001b[38;5;28;01mfrom\u001b[39;00m\u001b[38;5;250m \u001b[39m\u001b[38;5;28;01mNone\u001b[39;00m\n\u001b[32m     98\u001b[39m \u001b[38;5;28;01mif\u001b[39;00m \u001b[38;5;28misinstance\u001b[39m(e, OpenBBError):\n\u001b[32m---> \u001b[39m\u001b[32m99\u001b[39m     \u001b[38;5;28;01mraise\u001b[39;00m OpenBBError(\u001b[33mf\u001b[39m\u001b[33m\"\u001b[39m\u001b[38;5;130;01m\\n\u001b[39;00m\u001b[33m[Error] -> \u001b[39m\u001b[38;5;132;01m{\u001b[39;00me\u001b[38;5;132;01m}\u001b[39;00m\u001b[33m\"\u001b[39m).with_traceback(tb) \u001b[38;5;28;01mfrom\u001b[39;00m\u001b[38;5;250m \u001b[39m\u001b[38;5;28;01mNone\u001b[39;00m\n\u001b[32m    100\u001b[39m \u001b[38;5;28;01mif\u001b[39;00m \u001b[38;5;28misinstance\u001b[39m(e, \u001b[38;5;167;01mException\u001b[39;00m):\n\u001b[32m    101\u001b[39m     \u001b[38;5;28;01mraise\u001b[39;00m OpenBBError(\n\u001b[32m    102\u001b[39m         \u001b[33mf\u001b[39m\u001b[33m\"\u001b[39m\u001b[38;5;130;01m\\n\u001b[39;00m\u001b[33m[Unexpected Error] -> \u001b[39m\u001b[38;5;132;01m{\u001b[39;00me.\u001b[34m__class__\u001b[39m.\u001b[34m__name__\u001b[39m\u001b[38;5;132;01m}\u001b[39;00m\u001b[33m -> \u001b[39m\u001b[38;5;132;01m{\u001b[39;00me\u001b[38;5;132;01m}\u001b[39;00m\u001b[33m\"\u001b[39m\n\u001b[32m    103\u001b[39m     ).with_traceback(tb) \u001b[38;5;28;01mfrom\u001b[39;00m\u001b[38;5;250m \u001b[39m\u001b[38;5;28;01mNone\u001b[39;00m\n",
      "\u001b[36mFile \u001b[39m\u001b[32m/opt/anaconda3/envs/stocks/lib/python3.11/site-packages/openbb_core/provider/query_executor.py:57\u001b[39m, in \u001b[36mQueryExecutor.filter_credentials\u001b[39m\u001b[34m(credentials, provider, require_credentials)\u001b[39m\n\u001b[32m     55\u001b[39m         website = provider.website \u001b[38;5;129;01mor\u001b[39;00m \u001b[33m\"\u001b[39m\u001b[33m\"\u001b[39m\n\u001b[32m     56\u001b[39m         extra_msg = \u001b[33mf\u001b[39m\u001b[33m\"\u001b[39m\u001b[33m Check \u001b[39m\u001b[38;5;132;01m{\u001b[39;00mwebsite\u001b[38;5;132;01m}\u001b[39;00m\u001b[33m to get it.\u001b[39m\u001b[33m\"\u001b[39m \u001b[38;5;28;01mif\u001b[39;00m website \u001b[38;5;28;01melse\u001b[39;00m \u001b[33m\"\u001b[39m\u001b[33m\"\u001b[39m\n\u001b[32m---> \u001b[39m\u001b[32m57\u001b[39m         \u001b[38;5;28;01mraise\u001b[39;00m OpenBBError(\n\u001b[32m     58\u001b[39m             \u001b[33mf\u001b[39m\u001b[33m\"\u001b[39m\u001b[33mMissing credential \u001b[39m\u001b[33m'\u001b[39m\u001b[38;5;132;01m{\u001b[39;00mc\u001b[38;5;132;01m}\u001b[39;00m\u001b[33m'\u001b[39m\u001b[33m.\u001b[39m\u001b[38;5;132;01m{\u001b[39;00mextra_msg\u001b[38;5;132;01m}\u001b[39;00m\u001b[33m Known more about how to set provider \u001b[39m\u001b[33m\"\u001b[39m\n\u001b[32m     59\u001b[39m             \u001b[33m\"\u001b[39m\u001b[33mcredentials at https://docs.openbb.co/platform/getting_started/api_keys.\u001b[39m\u001b[33m\"\u001b[39m\n\u001b[32m     60\u001b[39m         )\n\u001b[32m     61\u001b[39m \u001b[38;5;28;01melse\u001b[39;00m:\n\u001b[32m     62\u001b[39m     filtered_credentials[c] = secret\n",
      "\u001b[31mOpenBBError\u001b[39m: \n[Error] -> Missing credential 'fmp_api_key'. Check https://financialmodelingprep.com to get it. Known more about how to set provider credentials at https://docs.openbb.co/platform/getting_started/api_keys."
     ]
    }
   ],
   "source": [
    "from openbb import obb\n",
    "obb.equity.profile(\"AAPL\", provider=\"fmp\").head()\n"
   ]
  },
  {
   "cell_type": "code",
   "execution_count": null,
   "id": "9b84742d-03e6-49a4-93d8-503f96916cdf",
   "metadata": {},
   "outputs": [],
   "source": []
  }
 ],
 "metadata": {
  "kernelspec": {
   "display_name": "Python [conda env:stocks]",
   "language": "python",
   "name": "conda-env-stocks-py"
  },
  "language_info": {
   "codemirror_mode": {
    "name": "ipython",
    "version": 3
   },
   "file_extension": ".py",
   "mimetype": "text/x-python",
   "name": "python",
   "nbconvert_exporter": "python",
   "pygments_lexer": "ipython3",
   "version": "3.11.11"
  }
 },
 "nbformat": 4,
 "nbformat_minor": 5
}
